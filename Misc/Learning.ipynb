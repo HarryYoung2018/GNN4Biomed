{
 "cells": [
  {
   "cell_type": "markdown",
   "id": "1eabed84",
   "metadata": {},
   "source": [
    "## Code Example"
   ]
  },
  {
   "cell_type": "code",
   "execution_count": 8,
   "id": "79d8f967",
   "metadata": {},
   "outputs": [],
   "source": [
    "import torch, torch.nn.functional as F\n",
    "from torch_geometric.datasets import Planetoid\n",
    "import torch_geometric.transforms as T\n",
    "from torch_geometric.nn import GCNConv"
   ]
  },
  {
   "cell_type": "code",
   "execution_count": 9,
   "id": "97f874a9",
   "metadata": {},
   "outputs": [
    {
     "name": "stdout",
     "output_type": "stream",
     "text": [
      "Test acc: 0.812\n"
     ]
    }
   ],
   "source": [
    "dataset = Planetoid(root='data/Cora', name='Cora', transform=T.NormalizeFeatures())\n",
    "data = dataset[0]\n",
    "\n",
    "class GCN(torch.nn.Module):\n",
    "    def __init__(self, in_feats, hidden, out_feats, dropout=0.5):\n",
    "        super().__init__()\n",
    "        self.conv1 = GCNConv(in_feats, hidden)\n",
    "        self.conv2 = GCNConv(hidden, out_feats)\n",
    "        self.dropout = dropout\n",
    "    def forward(self, x, edge_index):\n",
    "        x = self.conv1(x, edge_index); x = F.relu(x); x = F.dropout(x, p=self.dropout, training=self.training)\n",
    "        x = self.conv2(x, edge_index)\n",
    "        return x\n",
    "\n",
    "model = GCN(dataset.num_node_features, 64, dataset.num_classes)\n",
    "opt = torch.optim.Adam(model.parameters(), lr=0.01, weight_decay=5e-4)\n",
    "\n",
    "for epoch in range(1, 201):\n",
    "    model.train(); opt.zero_grad()\n",
    "    out = model(data.x, data.edge_index)\n",
    "    loss = F.cross_entropy(out[data.train_mask], data.y[data.train_mask])\n",
    "    loss.backward(); opt.step()\n",
    "\n",
    "model.eval()\n",
    "logits = model(data.x, data.edge_index)\n",
    "acc = (logits[data.test_mask].argmax(dim=-1) == data.y[data.test_mask]).float().mean().item()\n",
    "print(f\"Test acc: {acc:.3f}\")"
   ]
  }
 ],
 "metadata": {
  "kernelspec": {
   "display_name": "Python 3 (ipykernel)",
   "language": "python",
   "name": "python3"
  },
  "language_info": {
   "codemirror_mode": {
    "name": "ipython",
    "version": 3
   },
   "file_extension": ".py",
   "mimetype": "text/x-python",
   "name": "python",
   "nbconvert_exporter": "python",
   "pygments_lexer": "ipython3",
   "version": "3.13.7"
  }
 },
 "nbformat": 4,
 "nbformat_minor": 5
}
